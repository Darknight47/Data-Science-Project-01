{
 "cells": [
  {
   "cell_type": "markdown",
   "metadata": {},
   "source": [
    "## Main Question  \n",
    "Unicorn Investors wants to make an investment in a new form of transportation - JetRail. JetRail uses Jet propulsion technology to run rails and move people at a high speed!  \n",
    "The investment would only make sense, if they can get more than 1 million monthly users with in next 18 months.  \n",
    "In order to help Unicorn Ventures in their decision, **we need to forecast the traffic on JetRail for the next 7 months**.  \n",
    "We are provided with traffic data of JetRail since inception in the test file. "
   ]
  },
  {
   "cell_type": "markdown",
   "metadata": {},
   "source": [
    "### Data Understanding  \n",
    "#### Hypothesis Generation\n",
    "Hypothesis generation is done before having a look at the data in order to avoid any bias that may result after the observation. \n",
    "\n",
    "Hypothesis generation helps us to point out the factors which might affect our dependent variable.  \n",
    "\n",
    "Below are some of the hypotheses which I think can affect the passenger count (dependent variable for this time series problem) on the JetRail:  \n",
    "\n",
    "1. There will be an increase in the traffic as the years pass by.  \n",
    "**Explanation** - Population has a general upward trend with time, so I can expect more people to travel by JetRail. Also, generally companies expand their businesses over time leading to more customers travelling through JetRail. \n",
    "2. The traffic will be high from May to October.  \n",
    "**Explanation** - Tourist visits generally increases during this time period.  \n",
    "3. Traffic on weekdays will be more as compared to weekends/holidays.  \n",
    "**Explanation** - People will go to office on weekdays and hence the traffic will be more.  \n",
    "4. Traffic during the peak hours will be high.   \n",
    "**Explanation** - People will travel to work, college."
   ]
  },
  {
   "cell_type": "code",
   "execution_count": null,
   "metadata": {},
   "outputs": [],
   "source": []
  }
 ],
 "metadata": {
  "language_info": {
   "name": "python"
  }
 },
 "nbformat": 4,
 "nbformat_minor": 2
}
