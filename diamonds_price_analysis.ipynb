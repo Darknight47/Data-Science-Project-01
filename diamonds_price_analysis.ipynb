{
 "cells": [
  {
   "cell_type": "markdown",
   "metadata": {},
   "source": [
    "### Data Understanding"
   ]
  },
  {
   "cell_type": "markdown",
   "metadata": {},
   "source": [
    "Diamond, a mineral composed of pure carbon. It is the hardest naturally occurring substance known; it is also the most popular gemstone. Because of their extreme hardness, diamonds have a number of important industrial applications.  \n",
    "\n",
    "**How much does a diamond cost?**  \n",
    "The average price can range from $1,500 for a 0.5-carat diamond to $21,000 for a two-carat diamond.  \n",
    "\n",
    "**The truth is** that answering this question is not easy because the price of a diamond can vary depending on a number of factors, including Clarity, Color, Cut, Carat, Shape and Fluorescence.    \n",
    "\n",
    "Now let's use **DIAMOND dataset** for predicting a diamond's price.\n",
    "\n",
    "The dataset has the following **features**:\n",
    "\n",
    "1. price price in US dollars (\\$326--\\$18,823)\n",
    "2. carat weight of the diamond (0.2--5.01)\n",
    "3. cut quality of the cut (Fair, Good, Very Good, Premium, Ideal)\n",
    "4. color diamond colour, from J (worst) to D (best)\n",
    "5. clarity a measurement of how clear the diamond is (I1 (worst), SI2, SI1, VS2, VS1, VVS2, VVS1, IF (best))\n",
    "6. x length in mm (0--10.74)\n",
    "7. y width in mm (0--58.9)\n",
    "8. z depth in mm (0--31.8)\n",
    "9. depth total depth percentage = z / mean(x, y) = 2 * z / (x + y) (43--79)\n",
    "10. table width of top of diamond relative to widest point (43--95)"
   ]
  },
  {
   "cell_type": "markdown",
   "metadata": {},
   "source": []
  }
 ],
 "metadata": {
  "language_info": {
   "name": "python"
  }
 },
 "nbformat": 4,
 "nbformat_minor": 2
}
