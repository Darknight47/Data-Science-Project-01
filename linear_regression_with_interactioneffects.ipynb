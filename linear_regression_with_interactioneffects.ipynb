{
 "cells": [
  {
   "cell_type": "markdown",
   "metadata": {},
   "source": [
    "## Linear regression with interaction effects\n",
    "\n",
    "Estimating a linear regression model with annual income in USD (**earn**) as the response variable. Investigating whether the relationship between income **earn** and level of education **education** differs depending on gender **male** or not.\n",
    "\n",
    "### Data Understanding\n",
    "\n",
    "Y (response variable) = **earn** (income in USD)\n",
    "\n",
    "X1 = **education** (level of education, number of years)\n",
    "\n",
    "X2 = **male** (gender, male or female)\n",
    "\n",
    "X3 = Interaction term between **education** and **male** (education × male)\n",
    "\n",
    "Dataset Source: [https://github.com/avehtari/ROS-Examples/blob/master/Earnings/data/earnings.csv]"
   ]
  },
  {
   "cell_type": "markdown",
   "metadata": {},
   "source": []
  }
 ],
 "metadata": {
  "language_info": {
   "name": "python"
  }
 },
 "nbformat": 4,
 "nbformat_minor": 2
}
