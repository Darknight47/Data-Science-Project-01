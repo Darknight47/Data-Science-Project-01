{
 "cells": [
  {
   "cell_type": "markdown",
   "metadata": {},
   "source": [
    "## Main Question\n",
    "Will the loan application be approved?"
   ]
  },
  {
   "cell_type": "markdown",
   "metadata": {},
   "source": [
    "### Data Understanding\n",
    "\n",
    "Loan approval prediction means using credit history data of the loan applicants and algorithms to build an intelligent system that can determine loan approvals.\n",
    "\n",
    "**What is the domain area of the dataset?**  \n",
    "The dataset loan.csv contains information collected from different insurance companies!\n",
    " \n",
    "**Which data format?**  \n",
    "The dataset is in csv format!\n",
    "\n",
    "**Do the files have headers or another file describing the data?**  \n",
    "The files does have headers that describes the data! Each column has a name that describes the data it contains!\n",
    "\n",
    "**Are the data values separated by commas, semicolon, or tabs?**  \n",
    "The data values are separated by commas!  \n",
    "\n",
    "**Example**:   \n",
    "Loan_ID,Gender,Married,Dependents,Education,Self_Employed,ApplicantIncome,CoapplicantIncome,LoanAmount,Loan_Amount_Term,Credit_History,Property_Area,Loan_Status  \n",
    "LP001002,Male,No,0,Graduate,No,5849,0,,360,1,Urban,Y  \n",
    "\n",
    "**How many features and how many observations does the dataset have?**  \n",
    "The dataset has:  \n",
    "\n",
    "1. 13 features or columns!\n",
    "2. 615 observations or rows!\n",
    "\n",
    "**Does it contain numerical features? How many?**  \n",
    "Yes it contains 4 different numerical features.\n",
    "\n",
    "**Does it contain categorical features? How many?**\n",
    "Yes it contains 6 categorical features!"
   ]
  },
  {
   "cell_type": "markdown",
   "metadata": {},
   "source": []
  }
 ],
 "metadata": {
  "language_info": {
   "name": "python"
  }
 },
 "nbformat": 4,
 "nbformat_minor": 2
}
