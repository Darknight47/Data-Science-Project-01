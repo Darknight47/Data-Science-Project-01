{
 "cells": [
  {
   "cell_type": "markdown",
   "metadata": {},
   "source": [
    "## Main Task\n",
    "Banks and credit card companies calculate your credit score to determine your creditworthiness.  \n",
    "It helps banks and credit card companies immediately to issue loans to customers with good creditworthiness.  "
   ]
  }
 ],
 "metadata": {
  "language_info": {
   "name": "python"
  }
 },
 "nbformat": 4,
 "nbformat_minor": 2
}
