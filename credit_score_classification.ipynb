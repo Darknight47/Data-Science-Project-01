{
 "cells": [
  {
   "cell_type": "markdown",
   "metadata": {},
   "source": [
    "## Main Task\n",
    "Banks and credit card companies calculate your credit score to determine your creditworthiness.  \n",
    "It helps banks and credit card companies immediately to issue loans to customers with good creditworthiness.  \n",
    "\n",
    "There are three credit scores that banks and credit card companies use to label their customers:  \n",
    "\n",
    "1. Good\n",
    "2. Standard\n",
    "3. Poor\n",
    "\n",
    "A person with a good credit score will get loans from any bank and financial institution. For the task of Credit Score Classification, we need a labelled dataset with credit scores."
   ]
  },
  {
   "cell_type": "markdown",
   "metadata": {},
   "source": [
    "### Data Understanding\n",
    "The dataset contains the following features:  \n",
    "\n",
    "ID: Unique ID of the record\n",
    "\n",
    "Customer_ID: Unique ID of the customer\n",
    "\n",
    "Month: Month of the year\n",
    "\n",
    "Name: The name of the person\n",
    "\n",
    "Age: The age of the person\n",
    "\n",
    "SSN: Social Security Number of the person\n",
    "\n",
    "Occupation: The occupation of the person\n",
    "\n",
    "Annual_Income: The Annual Income of the person\n",
    "\n",
    "Monthly_Inhand_Salary: Monthly in-hand salary of the person\n",
    "\n",
    "Num_Bank_Accounts: The number of bank accounts of the person\n",
    "\n",
    "Num_Credit_Card: Number of credit cards the person is having\n",
    "\n",
    "Interest_Rate: The interest rate on the credit card of the person\n",
    "\n",
    "Num_of_Loan: The number of loans taken by the person from the bank\n",
    "\n",
    "Type_of_Loan: The types of loans taken by the person from the bank\n",
    "\n",
    "Delay_from_due_date: The average number of days delayed by the person from the date of payment\n",
    "\n",
    "Num_of_Delayed_Payment: Number of payments delayed by the person\n",
    "\n",
    "Changed_Credit_Card: The percentage change in the credit card limit of the person\n",
    "\n",
    "Num_Credit_Inquiries: The number of credit card inquiries by the person\n",
    "\n",
    "Credit_Mix: Classification of Credit Mix of the customer\n",
    "\n",
    "Outstanding_Debt: The outstanding balance of the person\n",
    "\n",
    "Credit_Utilization_Ratio: The credit utilization ratio of the credit card of the customer\n",
    "\n",
    "Credit_History_Age: The age of the credit history of the person\n",
    "\n",
    "Payment_of_Min_Amount: Yes if the person paid the minimum amount to be paid only, otherwise no.\n",
    "\n",
    "Total_EMI_per_month: The total EMI per month of the person\n",
    "\n",
    "Amount_invested_monthly: The monthly amount invested by the person\n",
    "\n",
    "Payment_Behaviour: The payment behaviour of the person\n",
    "\n",
    "Monthly_Balance: The monthly balance left in the account of the person\n",
    "\n",
    "Credit_Score: The credit score of the person"
   ]
  },
  {
   "cell_type": "markdown",
   "metadata": {},
   "source": []
  }
 ],
 "metadata": {
  "language_info": {
   "name": "python"
  }
 },
 "nbformat": 4,
 "nbformat_minor": 2
}
