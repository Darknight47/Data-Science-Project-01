{
 "cells": [
  {
   "cell_type": "markdown",
   "metadata": {},
   "source": [
    "### Data Understanding \n",
    "\n",
    "The dataset use in this project describes the minimum daily temperature over 10 years (19981 and 1990) in Melbourne, Australia.  \n",
    "The units are in degree celsius and there are 3650 observations. The source of the data was created by Australian Bureau of meteorology.  \n",
    "We will analyze this dataset to capture the trend, applied transformation on the data where required, plot the ACF & PACF’s and coefficient tests on suitable models, and forecast for the next five years."
   ]
  },
  {
   "cell_type": "markdown",
   "metadata": {},
   "source": []
  }
 ],
 "metadata": {
  "language_info": {
   "name": "python"
  }
 },
 "nbformat": 4,
 "nbformat_minor": 2
}
