{
 "cells": [
  {
   "cell_type": "markdown",
   "metadata": {},
   "source": [
    "**Description:** The project focuses on developing and evaluating dynamic pricing models for retail. It compares traditional statistical methods like ARIMA with ensemble learning techniques, such as Random Forests. \n",
    "\n",
    "**Research Problem:** Traditional models often struggle with complex data patterns and large datasets. The problem is to determine whether advanced ensemble learning techniques can outperform traditional time-series models in predicting optimal prices.\n",
    "\n",
    "### Strategies for Dynamic Pricing:\n",
    "1. **Rule-Based Pricing:** Setting prices based on predefined rules like competitor prices, stock levels, or markdown schedules. Works well as a baseline for both model types.\n",
    "2. **Demand Forecasting:** Predicting future demand to adjust prices dynamically, commonly used in time-series models.\n",
    "3. **Elasticity-Based Pricing:** Adjusting prices based on the estimated price elasticity of demand, often implemented using ensemble models for non-linear relationships.\n",
    "4. **Optimization-Based Pricing:** Using optimization algorithms to maximize revenue or profit by integrating model predictions with constraints like inventory and competitor prices.\n",
    "5. **Context-Aware Pricing:** Leveraging additional factors like seasonality, promotions, or customer behavior, often better captured by ensemble models due to their feature flexibility.\n",
    "\n",
    "### Differences in Strategies:\n",
    "1. **Time-Series Models:** Focus on temporal patterns and demand forecasting, relying heavily on historical sales and seasonality trends.\n",
    "2. **Ensemble Models:** Incorporate broader feature sets (e.g., competitor prices, customer ratings) and excel in capturing complex, non-linear relationships, making them suitable for context-aware and elasticity-based pricing."
   ]
  },
  {
   "cell_type": "code",
   "execution_count": 1,
   "metadata": {},
   "outputs": [],
   "source": [
    "import pandas as pd"
   ]
  },
  {
   "cell_type": "code",
   "execution_count": 2,
   "metadata": {},
   "outputs": [],
   "source": [
    "dataset = pd.read_csv(\"Datasets/SYNTHETIC Markdown Dataset.csv\")"
   ]
  },
  {
   "cell_type": "code",
   "execution_count": 3,
   "metadata": {},
   "outputs": [
    {
     "name": "stdout",
     "output_type": "stream",
     "text": [
      "<class 'pandas.core.frame.DataFrame'>\n",
      "RangeIndex: 43750 entries, 0 to 43749\n",
      "Data columns (total 22 columns):\n",
      " #   Column              Non-Null Count  Dtype  \n",
      "---  ------              --------------  -----  \n",
      " 0   Product_ID          43750 non-null  int64  \n",
      " 1   Category            43750 non-null  object \n",
      " 2   Brand               43750 non-null  object \n",
      " 3   Season              43750 non-null  object \n",
      " 4   Product_Name        43750 non-null  object \n",
      " 5   Original_Price      43750 non-null  float64\n",
      " 6   Competitor_Price    43750 non-null  float64\n",
      " 7   Seasonality_Factor  43750 non-null  float64\n",
      " 8   Markdown_1          43750 non-null  float64\n",
      " 9   Markdown_2          43750 non-null  float64\n",
      " 10  Markdown_3          43750 non-null  float64\n",
      " 11  Markdown_4          43750 non-null  float64\n",
      " 12  Historical_Sales    43750 non-null  int64  \n",
      " 13  Sales_After_M1      43750 non-null  int64  \n",
      " 14  Sales_After_M2      43750 non-null  int64  \n",
      " 15  Sales_After_M3      43750 non-null  int64  \n",
      " 16  Sales_After_M4      43750 non-null  int64  \n",
      " 17  Stock_Level         43750 non-null  int64  \n",
      " 18  Promotion_Type      43750 non-null  object \n",
      " 19  Customer Ratings    43750 non-null  float64\n",
      " 20  Return Rate         43750 non-null  float64\n",
      " 21  Optimal Discount    43750 non-null  float64\n",
      "dtypes: float64(10), int64(7), object(5)\n",
      "memory usage: 7.3+ MB\n"
     ]
    }
   ],
   "source": [
    "dataset.info()"
   ]
  },
  {
   "cell_type": "code",
   "execution_count": null,
   "metadata": {},
   "outputs": [],
   "source": []
  }
 ],
 "metadata": {
  "kernelspec": {
   "display_name": "Python 3",
   "language": "python",
   "name": "python3"
  },
  "language_info": {
   "codemirror_mode": {
    "name": "ipython",
    "version": 3
   },
   "file_extension": ".py",
   "mimetype": "text/x-python",
   "name": "python",
   "nbconvert_exporter": "python",
   "pygments_lexer": "ipython3",
   "version": "3.12.2"
  }
 },
 "nbformat": 4,
 "nbformat_minor": 2
}
