{
 "cells": [
  {
   "cell_type": "markdown",
   "metadata": {},
   "source": [
    "**Description:** The project focuses on developing and evaluating dynamic pricing models for retail. It compares traditional statistical methods like ARIMA with ensemble learning techniques, such as Random Forests. \n",
    "\n",
    "**Research Problem:** Traditional models often struggle with complex data patterns and large datasets. The problem is to determine whether advanced ensemble learning techniques can outperform traditional time-series models in predicting optimal prices.\n",
    "\n",
    "### Strategies for Dynamic Pricing:\n",
    "1. **Rule-Based Pricing:** Setting prices based on predefined rules like competitor prices, stock levels, or markdown schedules. Works well as a baseline for both model types.\n",
    "2. **Demand Forecasting:** Predicting future demand to adjust prices dynamically, commonly used in time-series models.\n",
    "3. **Elasticity-Based Pricing:** Adjusting prices based on the estimated price elasticity of demand, often implemented using ensemble models for non-linear relationships.\n",
    "4. **Optimization-Based Pricing:** Using optimization algorithms to maximize revenue or profit by integrating model predictions with constraints like inventory and competitor prices.\n",
    "5. **Context-Aware Pricing:** Leveraging additional factors like seasonality, promotions, or customer behavior, often better captured by ensemble models due to their feature flexibility.\n",
    "\n",
    "### Differences in Strategies:\n",
    "1. **Time-Series Models:** Focus on temporal patterns and demand forecasting, relying heavily on historical sales and seasonality trends.\n",
    "2. **Ensemble Models:** Incorporate broader feature sets (e.g., competitor prices, customer ratings) and excel in capturing complex, non-linear relationships, making them suitable for context-aware and elasticity-based pricing."
   ]
  },
  {
   "cell_type": "code",
   "execution_count": 20,
   "metadata": {},
   "outputs": [],
   "source": [
    "import pandas as pd\n",
    "import matplotlib.pyplot as plt\n",
    "import seaborn as sns"
   ]
  },
  {
   "cell_type": "code",
   "execution_count": 14,
   "metadata": {},
   "outputs": [],
   "source": [
    "dataset = pd.read_csv(\"Datasets/retail_store_inventory.csv\")"
   ]
  },
  {
   "cell_type": "code",
   "execution_count": 16,
   "metadata": {},
   "outputs": [
    {
     "data": {
      "text/html": [
       "<div>\n",
       "<style scoped>\n",
       "    .dataframe tbody tr th:only-of-type {\n",
       "        vertical-align: middle;\n",
       "    }\n",
       "\n",
       "    .dataframe tbody tr th {\n",
       "        vertical-align: top;\n",
       "    }\n",
       "\n",
       "    .dataframe thead th {\n",
       "        text-align: right;\n",
       "    }\n",
       "</style>\n",
       "<table border=\"1\" class=\"dataframe\">\n",
       "  <thead>\n",
       "    <tr style=\"text-align: right;\">\n",
       "      <th></th>\n",
       "      <th>Date</th>\n",
       "      <th>Store ID</th>\n",
       "      <th>Product ID</th>\n",
       "      <th>Category</th>\n",
       "      <th>Region</th>\n",
       "      <th>Inventory Level</th>\n",
       "      <th>Units Sold</th>\n",
       "      <th>Units Ordered</th>\n",
       "      <th>Demand Forecast</th>\n",
       "      <th>Price</th>\n",
       "      <th>Discount</th>\n",
       "      <th>Weather Condition</th>\n",
       "      <th>Holiday/Promotion</th>\n",
       "      <th>Competitor Pricing</th>\n",
       "      <th>Seasonality</th>\n",
       "    </tr>\n",
       "  </thead>\n",
       "  <tbody>\n",
       "    <tr>\n",
       "      <th>0</th>\n",
       "      <td>2022-01-01</td>\n",
       "      <td>S001</td>\n",
       "      <td>P0001</td>\n",
       "      <td>Groceries</td>\n",
       "      <td>North</td>\n",
       "      <td>231</td>\n",
       "      <td>127</td>\n",
       "      <td>55</td>\n",
       "      <td>135.47</td>\n",
       "      <td>33.50</td>\n",
       "      <td>20</td>\n",
       "      <td>Rainy</td>\n",
       "      <td>0</td>\n",
       "      <td>29.69</td>\n",
       "      <td>Autumn</td>\n",
       "    </tr>\n",
       "    <tr>\n",
       "      <th>1</th>\n",
       "      <td>2022-01-01</td>\n",
       "      <td>S001</td>\n",
       "      <td>P0002</td>\n",
       "      <td>Toys</td>\n",
       "      <td>South</td>\n",
       "      <td>204</td>\n",
       "      <td>150</td>\n",
       "      <td>66</td>\n",
       "      <td>144.04</td>\n",
       "      <td>63.01</td>\n",
       "      <td>20</td>\n",
       "      <td>Sunny</td>\n",
       "      <td>0</td>\n",
       "      <td>66.16</td>\n",
       "      <td>Autumn</td>\n",
       "    </tr>\n",
       "    <tr>\n",
       "      <th>2</th>\n",
       "      <td>2022-01-01</td>\n",
       "      <td>S001</td>\n",
       "      <td>P0003</td>\n",
       "      <td>Toys</td>\n",
       "      <td>West</td>\n",
       "      <td>102</td>\n",
       "      <td>65</td>\n",
       "      <td>51</td>\n",
       "      <td>74.02</td>\n",
       "      <td>27.99</td>\n",
       "      <td>10</td>\n",
       "      <td>Sunny</td>\n",
       "      <td>1</td>\n",
       "      <td>31.32</td>\n",
       "      <td>Summer</td>\n",
       "    </tr>\n",
       "    <tr>\n",
       "      <th>3</th>\n",
       "      <td>2022-01-01</td>\n",
       "      <td>S001</td>\n",
       "      <td>P0004</td>\n",
       "      <td>Toys</td>\n",
       "      <td>North</td>\n",
       "      <td>469</td>\n",
       "      <td>61</td>\n",
       "      <td>164</td>\n",
       "      <td>62.18</td>\n",
       "      <td>32.72</td>\n",
       "      <td>10</td>\n",
       "      <td>Cloudy</td>\n",
       "      <td>1</td>\n",
       "      <td>34.74</td>\n",
       "      <td>Autumn</td>\n",
       "    </tr>\n",
       "    <tr>\n",
       "      <th>4</th>\n",
       "      <td>2022-01-01</td>\n",
       "      <td>S001</td>\n",
       "      <td>P0005</td>\n",
       "      <td>Electronics</td>\n",
       "      <td>East</td>\n",
       "      <td>166</td>\n",
       "      <td>14</td>\n",
       "      <td>135</td>\n",
       "      <td>9.26</td>\n",
       "      <td>73.64</td>\n",
       "      <td>0</td>\n",
       "      <td>Sunny</td>\n",
       "      <td>0</td>\n",
       "      <td>68.95</td>\n",
       "      <td>Summer</td>\n",
       "    </tr>\n",
       "  </tbody>\n",
       "</table>\n",
       "</div>"
      ],
      "text/plain": [
       "         Date Store ID Product ID     Category Region  Inventory Level  \\\n",
       "0  2022-01-01     S001      P0001    Groceries  North              231   \n",
       "1  2022-01-01     S001      P0002         Toys  South              204   \n",
       "2  2022-01-01     S001      P0003         Toys   West              102   \n",
       "3  2022-01-01     S001      P0004         Toys  North              469   \n",
       "4  2022-01-01     S001      P0005  Electronics   East              166   \n",
       "\n",
       "   Units Sold  Units Ordered  Demand Forecast  Price  Discount  \\\n",
       "0         127             55           135.47  33.50        20   \n",
       "1         150             66           144.04  63.01        20   \n",
       "2          65             51            74.02  27.99        10   \n",
       "3          61            164            62.18  32.72        10   \n",
       "4          14            135             9.26  73.64         0   \n",
       "\n",
       "  Weather Condition  Holiday/Promotion  Competitor Pricing Seasonality  \n",
       "0             Rainy                  0               29.69      Autumn  \n",
       "1             Sunny                  0               66.16      Autumn  \n",
       "2             Sunny                  1               31.32      Summer  \n",
       "3            Cloudy                  1               34.74      Autumn  \n",
       "4             Sunny                  0               68.95      Summer  "
      ]
     },
     "execution_count": 16,
     "metadata": {},
     "output_type": "execute_result"
    }
   ],
   "source": [
    "dataset.head()"
   ]
  },
  {
   "cell_type": "code",
   "execution_count": 15,
   "metadata": {},
   "outputs": [
    {
     "name": "stdout",
     "output_type": "stream",
     "text": [
      "<class 'pandas.core.frame.DataFrame'>\n",
      "RangeIndex: 73100 entries, 0 to 73099\n",
      "Data columns (total 15 columns):\n",
      " #   Column              Non-Null Count  Dtype  \n",
      "---  ------              --------------  -----  \n",
      " 0   Date                73100 non-null  object \n",
      " 1   Store ID            73100 non-null  object \n",
      " 2   Product ID          73100 non-null  object \n",
      " 3   Category            73100 non-null  object \n",
      " 4   Region              73100 non-null  object \n",
      " 5   Inventory Level     73100 non-null  int64  \n",
      " 6   Units Sold          73100 non-null  int64  \n",
      " 7   Units Ordered       73100 non-null  int64  \n",
      " 8   Demand Forecast     73100 non-null  float64\n",
      " 9   Price               73100 non-null  float64\n",
      " 10  Discount            73100 non-null  int64  \n",
      " 11  Weather Condition   73100 non-null  object \n",
      " 12  Holiday/Promotion   73100 non-null  int64  \n",
      " 13  Competitor Pricing  73100 non-null  float64\n",
      " 14  Seasonality         73100 non-null  object \n",
      "dtypes: float64(3), int64(5), object(7)\n",
      "memory usage: 8.4+ MB\n"
     ]
    }
   ],
   "source": [
    "dataset.info()"
   ]
  },
  {
   "cell_type": "markdown",
   "metadata": {},
   "source": [
    "### Exploratory Data Analysis"
   ]
  },
  {
   "cell_type": "code",
   "execution_count": 17,
   "metadata": {},
   "outputs": [
    {
     "data": {
      "text/html": [
       "<div>\n",
       "<style scoped>\n",
       "    .dataframe tbody tr th:only-of-type {\n",
       "        vertical-align: middle;\n",
       "    }\n",
       "\n",
       "    .dataframe tbody tr th {\n",
       "        vertical-align: top;\n",
       "    }\n",
       "\n",
       "    .dataframe thead th {\n",
       "        text-align: right;\n",
       "    }\n",
       "</style>\n",
       "<table border=\"1\" class=\"dataframe\">\n",
       "  <thead>\n",
       "    <tr style=\"text-align: right;\">\n",
       "      <th></th>\n",
       "      <th>Inventory Level</th>\n",
       "      <th>Units Sold</th>\n",
       "      <th>Units Ordered</th>\n",
       "      <th>Demand Forecast</th>\n",
       "      <th>Price</th>\n",
       "      <th>Discount</th>\n",
       "      <th>Holiday/Promotion</th>\n",
       "      <th>Competitor Pricing</th>\n",
       "    </tr>\n",
       "  </thead>\n",
       "  <tbody>\n",
       "    <tr>\n",
       "      <th>count</th>\n",
       "      <td>73100.000000</td>\n",
       "      <td>73100.000000</td>\n",
       "      <td>73100.000000</td>\n",
       "      <td>73100.000000</td>\n",
       "      <td>73100.000000</td>\n",
       "      <td>73100.000000</td>\n",
       "      <td>73100.000000</td>\n",
       "      <td>73100.000000</td>\n",
       "    </tr>\n",
       "    <tr>\n",
       "      <th>mean</th>\n",
       "      <td>274.469877</td>\n",
       "      <td>136.464870</td>\n",
       "      <td>110.004473</td>\n",
       "      <td>141.494720</td>\n",
       "      <td>55.135108</td>\n",
       "      <td>10.009508</td>\n",
       "      <td>0.497305</td>\n",
       "      <td>55.146077</td>\n",
       "    </tr>\n",
       "    <tr>\n",
       "      <th>std</th>\n",
       "      <td>129.949514</td>\n",
       "      <td>108.919406</td>\n",
       "      <td>52.277448</td>\n",
       "      <td>109.254076</td>\n",
       "      <td>26.021945</td>\n",
       "      <td>7.083746</td>\n",
       "      <td>0.499996</td>\n",
       "      <td>26.191408</td>\n",
       "    </tr>\n",
       "    <tr>\n",
       "      <th>min</th>\n",
       "      <td>50.000000</td>\n",
       "      <td>0.000000</td>\n",
       "      <td>20.000000</td>\n",
       "      <td>-9.990000</td>\n",
       "      <td>10.000000</td>\n",
       "      <td>0.000000</td>\n",
       "      <td>0.000000</td>\n",
       "      <td>5.030000</td>\n",
       "    </tr>\n",
       "    <tr>\n",
       "      <th>25%</th>\n",
       "      <td>162.000000</td>\n",
       "      <td>49.000000</td>\n",
       "      <td>65.000000</td>\n",
       "      <td>53.670000</td>\n",
       "      <td>32.650000</td>\n",
       "      <td>5.000000</td>\n",
       "      <td>0.000000</td>\n",
       "      <td>32.680000</td>\n",
       "    </tr>\n",
       "    <tr>\n",
       "      <th>50%</th>\n",
       "      <td>273.000000</td>\n",
       "      <td>107.000000</td>\n",
       "      <td>110.000000</td>\n",
       "      <td>113.015000</td>\n",
       "      <td>55.050000</td>\n",
       "      <td>10.000000</td>\n",
       "      <td>0.000000</td>\n",
       "      <td>55.010000</td>\n",
       "    </tr>\n",
       "    <tr>\n",
       "      <th>75%</th>\n",
       "      <td>387.000000</td>\n",
       "      <td>203.000000</td>\n",
       "      <td>155.000000</td>\n",
       "      <td>208.052500</td>\n",
       "      <td>77.860000</td>\n",
       "      <td>15.000000</td>\n",
       "      <td>1.000000</td>\n",
       "      <td>77.820000</td>\n",
       "    </tr>\n",
       "    <tr>\n",
       "      <th>max</th>\n",
       "      <td>500.000000</td>\n",
       "      <td>499.000000</td>\n",
       "      <td>200.000000</td>\n",
       "      <td>518.550000</td>\n",
       "      <td>100.000000</td>\n",
       "      <td>20.000000</td>\n",
       "      <td>1.000000</td>\n",
       "      <td>104.940000</td>\n",
       "    </tr>\n",
       "  </tbody>\n",
       "</table>\n",
       "</div>"
      ],
      "text/plain": [
       "       Inventory Level    Units Sold  Units Ordered  Demand Forecast  \\\n",
       "count     73100.000000  73100.000000   73100.000000     73100.000000   \n",
       "mean        274.469877    136.464870     110.004473       141.494720   \n",
       "std         129.949514    108.919406      52.277448       109.254076   \n",
       "min          50.000000      0.000000      20.000000        -9.990000   \n",
       "25%         162.000000     49.000000      65.000000        53.670000   \n",
       "50%         273.000000    107.000000     110.000000       113.015000   \n",
       "75%         387.000000    203.000000     155.000000       208.052500   \n",
       "max         500.000000    499.000000     200.000000       518.550000   \n",
       "\n",
       "              Price      Discount  Holiday/Promotion  Competitor Pricing  \n",
       "count  73100.000000  73100.000000       73100.000000        73100.000000  \n",
       "mean      55.135108     10.009508           0.497305           55.146077  \n",
       "std       26.021945      7.083746           0.499996           26.191408  \n",
       "min       10.000000      0.000000           0.000000            5.030000  \n",
       "25%       32.650000      5.000000           0.000000           32.680000  \n",
       "50%       55.050000     10.000000           0.000000           55.010000  \n",
       "75%       77.860000     15.000000           1.000000           77.820000  \n",
       "max      100.000000     20.000000           1.000000          104.940000  "
      ]
     },
     "execution_count": 17,
     "metadata": {},
     "output_type": "execute_result"
    }
   ],
   "source": [
    "dataset.describe()"
   ]
  },
  {
   "cell_type": "code",
   "execution_count": 18,
   "metadata": {},
   "outputs": [
    {
     "data": {
      "text/plain": [
       "Date                  0\n",
       "Store ID              0\n",
       "Product ID            0\n",
       "Category              0\n",
       "Region                0\n",
       "Inventory Level       0\n",
       "Units Sold            0\n",
       "Units Ordered         0\n",
       "Demand Forecast       0\n",
       "Price                 0\n",
       "Discount              0\n",
       "Weather Condition     0\n",
       "Holiday/Promotion     0\n",
       "Competitor Pricing    0\n",
       "Seasonality           0\n",
       "dtype: int64"
      ]
     },
     "execution_count": 18,
     "metadata": {},
     "output_type": "execute_result"
    }
   ],
   "source": [
    "dataset.isnull().sum()"
   ]
  },
  {
   "cell_type": "code",
   "execution_count": 19,
   "metadata": {},
   "outputs": [
    {
     "data": {
      "text/plain": [
       "Date                  0\n",
       "Store ID              0\n",
       "Product ID            0\n",
       "Category              0\n",
       "Region                0\n",
       "Inventory Level       0\n",
       "Units Sold            0\n",
       "Units Ordered         0\n",
       "Demand Forecast       0\n",
       "Price                 0\n",
       "Discount              0\n",
       "Weather Condition     0\n",
       "Holiday/Promotion     0\n",
       "Competitor Pricing    0\n",
       "Seasonality           0\n",
       "dtype: int64"
      ]
     },
     "execution_count": 19,
     "metadata": {},
     "output_type": "execute_result"
    }
   ],
   "source": [
    "dataset.isna().sum()"
   ]
  },
  {
   "cell_type": "markdown",
   "metadata": {},
   "source": [
    "##### What is the overall distribution of prices?\n",
    "(Understanding price distribution helps identify common price ranges and outliers.)"
   ]
  },
  {
   "cell_type": "code",
   "execution_count": 30,
   "metadata": {},
   "outputs": [
    {
     "data": {
      "image/png": "[encoded data removed]",
      "text/plain": [
       "<Figure size 800x600 with 1 Axes>"
      ]
     },
     "metadata": {},
     "output_type": "display_data"
    }
   ],
   "source": [
    "plt.figure(figsize=(8, 6))\n",
    "sns.histplot(dataset['Price'], bins=10, kde=True)\n",
    "plt.title('Distribution of Prices')\n",
    "plt.xlabel('Price')\n",
    "plt.ylabel('Frequency')\n",
    "plt.show()"
   ]
  },
  {
   "cell_type": "markdown",
   "metadata": {},
   "source": [
    "> The prices in the dataset are relatively uniformly distributed. This means there's no single price range that dominates the dataset; prices are spread out evenly across the entire range.  \n",
    "\n",
    "(Prices are uniformly distributed, we might want to explore dynamic pricing strategies that consider contextual factors like demand, inventory levels, or competitor pricing to find opportunities for optimizing prices.)"
   ]
  },
  {
   "cell_type": "code",
   "execution_count": null,
   "metadata": {},
   "outputs": [],
   "source": []
  }
 ],
 "metadata": {
  "kernelspec": {
   "display_name": "Python 3",
   "language": "python",
   "name": "python3"
  },
  "language_info": {
   "codemirror_mode": {
    "name": "ipython",
    "version": 3
   },
   "file_extension": ".py",
   "mimetype": "text/x-python",
   "name": "python",
   "nbconvert_exporter": "python",
   "pygments_lexer": "ipython3",
   "version": "3.12.2"
  }
 },
 "nbformat": 4,
 "nbformat_minor": 2
}
